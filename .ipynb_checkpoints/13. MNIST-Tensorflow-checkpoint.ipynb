{
 "cells": [
  {
   "cell_type": "code",
   "execution_count": 52,
   "metadata": {
    "ExecuteTime": {
     "end_time": "2019-06-25T11:31:27.189381Z",
     "start_time": "2019-06-25T11:31:27.181399Z"
    }
   },
   "outputs": [],
   "source": [
    "import tensorflow as tf"
   ]
  },
  {
   "cell_type": "code",
   "execution_count": 53,
   "metadata": {
    "ExecuteTime": {
     "end_time": "2019-06-25T11:31:27.349444Z",
     "start_time": "2019-06-25T11:31:27.193378Z"
    }
   },
   "outputs": [],
   "source": [
    "from tensorflow.examples.tutorials.mnist import input_data"
   ]
  },
  {
   "cell_type": "code",
   "execution_count": 54,
   "metadata": {
    "ExecuteTime": {
     "end_time": "2019-06-25T11:31:28.300442Z",
     "start_time": "2019-06-25T11:31:27.353388Z"
    }
   },
   "outputs": [
    {
     "name": "stdout",
     "output_type": "stream",
     "text": [
      "Extracting MNIST_data/train-images-idx3-ubyte.gz\n",
      "Extracting MNIST_data/train-labels-idx1-ubyte.gz\n",
      "Extracting MNIST_data/t10k-images-idx3-ubyte.gz\n",
      "Extracting MNIST_data/t10k-labels-idx1-ubyte.gz\n"
     ]
    }
   ],
   "source": [
    "mnist = input_data.read_data_sets(\"MNIST_data/\", one_hot=True)"
   ]
  },
  {
   "cell_type": "code",
   "execution_count": 55,
   "metadata": {
    "ExecuteTime": {
     "end_time": "2019-06-25T11:31:28.317789Z",
     "start_time": "2019-06-25T11:31:28.305785Z"
    }
   },
   "outputs": [
    {
     "data": {
      "text/plain": [
       "Datasets(train=<tensorflow.contrib.learn.python.learn.datasets.mnist.DataSet object at 0x000000638D3BC4A8>, validation=<tensorflow.contrib.learn.python.learn.datasets.mnist.DataSet object at 0x000000638D7D9748>, test=<tensorflow.contrib.learn.python.learn.datasets.mnist.DataSet object at 0x000000638D7D97F0>)"
      ]
     },
     "execution_count": 55,
     "metadata": {},
     "output_type": "execute_result"
    }
   ],
   "source": [
    "mnist"
   ]
  },
  {
   "cell_type": "code",
   "execution_count": 56,
   "metadata": {
    "ExecuteTime": {
     "end_time": "2019-06-25T11:31:28.401797Z",
     "start_time": "2019-06-25T11:31:28.321789Z"
    }
   },
   "outputs": [
    {
     "data": {
      "text/plain": [
       "((55000, 784), (55000, 10))"
      ]
     },
     "execution_count": 56,
     "metadata": {},
     "output_type": "execute_result"
    }
   ],
   "source": [
    "mnist.train.images.shape, mnist.train.labels.shape"
   ]
  },
  {
   "cell_type": "code",
   "execution_count": 57,
   "metadata": {
    "ExecuteTime": {
     "end_time": "2019-06-25T11:31:28.513801Z",
     "start_time": "2019-06-25T11:31:28.405797Z"
    }
   },
   "outputs": [
    {
     "data": {
      "text/plain": [
       "array([0., 0., 0., 0., 0., 0., 0., 1., 0., 0.])"
      ]
     },
     "execution_count": 57,
     "metadata": {},
     "output_type": "execute_result"
    }
   ],
   "source": [
    "mnist.train.labels[0]"
   ]
  },
  {
   "cell_type": "code",
   "execution_count": 58,
   "metadata": {
    "ExecuteTime": {
     "end_time": "2019-06-25T11:31:28.585828Z",
     "start_time": "2019-06-25T11:31:28.521803Z"
    }
   },
   "outputs": [
    {
     "data": {
      "text/plain": [
       "((10000, 784), (10000, 10))"
      ]
     },
     "execution_count": 58,
     "metadata": {},
     "output_type": "execute_result"
    }
   ],
   "source": [
    "mnist.test.images.shape, mnist.test.labels.shape"
   ]
  },
  {
   "cell_type": "code",
   "execution_count": 59,
   "metadata": {
    "ExecuteTime": {
     "end_time": "2019-06-25T11:31:28.697824Z",
     "start_time": "2019-06-25T11:31:28.589807Z"
    }
   },
   "outputs": [
    {
     "data": {
      "text/plain": [
       "(5000, 784)"
      ]
     },
     "execution_count": 59,
     "metadata": {},
     "output_type": "execute_result"
    }
   ],
   "source": [
    "mnist.validation.images.shape"
   ]
  },
  {
   "cell_type": "code",
   "execution_count": 60,
   "metadata": {
    "ExecuteTime": {
     "end_time": "2019-06-25T11:31:28.801829Z",
     "start_time": "2019-06-25T11:31:28.709818Z"
    }
   },
   "outputs": [],
   "source": [
    "import numpy as np\n",
    "from matplotlib import pyplot as plt"
   ]
  },
  {
   "cell_type": "code",
   "execution_count": 61,
   "metadata": {
    "ExecuteTime": {
     "end_time": "2019-06-25T11:31:29.403713Z",
     "start_time": "2019-06-25T11:31:28.813832Z"
    },
    "scrolled": true
   },
   "outputs": [
    {
     "data": {
      "image/png": "[encoded data removed]",
      "text/plain": [
       "<Figure size 432x288 with 1 Axes>"
      ]
     },
     "metadata": {
      "needs_background": "light"
     },
     "output_type": "display_data"
    }
   ],
   "source": [
    "first_image = mnist.train.images[412]\n",
    "first_image = np.array(first_image, dtype='float')\n",
    "first_image = first_image.reshape((28,28))\n",
    "plt.imshow(first_image)\n",
    "plt.show()"
   ]
  },
  {
   "cell_type": "code",
   "execution_count": 62,
   "metadata": {
    "ExecuteTime": {
     "end_time": "2019-06-25T11:31:29.466225Z",
     "start_time": "2019-06-25T11:31:29.403713Z"
    }
   },
   "outputs": [
    {
     "name": "stdout",
     "output_type": "stream",
     "text": [
      "[[-1.2904944   0.33571944 -0.01156764 ... -1.1480341  -0.74617106\n",
      "   0.3619615 ]\n",
      " [ 0.5962233   1.8196675  -0.50616896 ... -0.44461152  0.08536825\n",
      "  -1.1180799 ]\n",
      " [-0.8538912   0.10803707  0.91227233 ...  0.53111106  0.4288974\n",
      "  -0.41639337]\n",
      " ...\n",
      " [ 0.5773971   2.2468174  -0.7902112  ... -0.5567642   0.16231826\n",
      "  -2.3258815 ]\n",
      " [-0.4980397   0.10450748 -0.73666334 ... -0.42536047  0.05307719\n",
      "  -0.64638513]\n",
      " [-0.37409985  0.09761579  0.8452021  ...  0.6222313   0.17908198\n",
      "   1.8341632 ]]\n"
     ]
    }
   ],
   "source": [
    "with tf.Session() as sess:\n",
    "    print(tf.random_normal([784, 256]).eval())"
   ]
  },
  {
   "cell_type": "code",
   "execution_count": 63,
   "metadata": {
    "ExecuteTime": {
     "end_time": "2019-06-25T11:31:29.633131Z",
     "start_time": "2019-06-25T11:31:29.466225Z"
    }
   },
   "outputs": [],
   "source": [
    "# weights & biases\n",
    "n_input = 784\n",
    "n_hidden_1 = 256\n",
    "n_hidden_2 = 256\n",
    "n_classes = 10\n",
    "\n",
    "weights = {\n",
    "    'h1': tf.Variable(tf.random_normal([n_input, n_hidden_1])),\n",
    "    'h2': tf.Variable(tf.random_normal([n_hidden_1, n_hidden_2])),\n",
    "    'out': tf.Variable(tf.random_normal([n_hidden_2, n_classes]))\n",
    "}\n",
    "\n",
    "biases = {\n",
    "    'h1': tf.Variable(tf.random_normal([n_hidden_1])),\n",
    "    'h2': tf.Variable(tf.random_normal([n_hidden_2])),\n",
    "    'out': tf.Variable(tf.random_normal([n_classes]))\n",
    "}\n"
   ]
  },
  {
   "cell_type": "code",
   "execution_count": 64,
   "metadata": {
    "ExecuteTime": {
     "end_time": "2019-06-25T11:31:29.733082Z",
     "start_time": "2019-06-25T11:31:29.637071Z"
    }
   },
   "outputs": [
    {
     "data": {
      "text/plain": [
       "[<tf.Variable 'Variable:0' shape=(784, 256) dtype=float32_ref>,\n",
       " <tf.Variable 'Variable_1:0' shape=(256, 256) dtype=float32_ref>,\n",
       " <tf.Variable 'Variable_2:0' shape=(256, 10) dtype=float32_ref>,\n",
       " <tf.Variable 'Variable_3:0' shape=(256,) dtype=float32_ref>,\n",
       " <tf.Variable 'Variable_4:0' shape=(256,) dtype=float32_ref>,\n",
       " <tf.Variable 'Variable_5:0' shape=(10,) dtype=float32_ref>,\n",
       " <tf.Variable 'Variable_6:0' shape=(784, 256) dtype=float32_ref>,\n",
       " <tf.Variable 'Variable_7:0' shape=(256, 256) dtype=float32_ref>,\n",
       " <tf.Variable 'Variable_8:0' shape=(256, 10) dtype=float32_ref>,\n",
       " <tf.Variable 'Variable_9:0' shape=(256,) dtype=float32_ref>,\n",
       " <tf.Variable 'Variable_10:0' shape=(256,) dtype=float32_ref>,\n",
       " <tf.Variable 'Variable_11:0' shape=(10,) dtype=float32_ref>,\n",
       " <tf.Variable 'Variable_12:0' shape=(784, 256) dtype=float32_ref>,\n",
       " <tf.Variable 'Variable_13:0' shape=(256, 256) dtype=float32_ref>,\n",
       " <tf.Variable 'Variable_14:0' shape=(256, 10) dtype=float32_ref>,\n",
       " <tf.Variable 'Variable_15:0' shape=(256,) dtype=float32_ref>,\n",
       " <tf.Variable 'Variable_16:0' shape=(256,) dtype=float32_ref>,\n",
       " <tf.Variable 'Variable_17:0' shape=(10,) dtype=float32_ref>]"
      ]
     },
     "execution_count": 64,
     "metadata": {},
     "output_type": "execute_result"
    }
   ],
   "source": [
    "tf.trainable_variables()"
   ]
  },
  {
   "cell_type": "code",
   "execution_count": 65,
   "metadata": {
    "ExecuteTime": {
     "end_time": "2019-06-25T11:31:29.869151Z",
     "start_time": "2019-06-25T11:31:29.741088Z"
    }
   },
   "outputs": [],
   "source": [
    "def forward_propagation(x, weights, biases):\n",
    "    in_layer1 = tf.add(tf.matmul(x, weights['h1']), biases['h1'])\n",
    "    out_layer1 = tf.nn.relu(in_layer1)\n",
    "    \n",
    "    in_layer2 = tf.add(tf.matmul(out_layer1, weights['h2']), biases['h2'])\n",
    "    out_layer2 = tf.nn.relu(in_layer2)\n",
    "    \n",
    "    output = tf.add(tf.matmul(out_layer2, weights['out']), biases['out'])\n",
    "    return output"
   ]
  },
  {
   "cell_type": "code",
   "execution_count": 66,
   "metadata": {
    "ExecuteTime": {
     "end_time": "2019-06-25T11:31:30.001160Z",
     "start_time": "2019-06-25T11:31:29.881094Z"
    }
   },
   "outputs": [],
   "source": [
    "x = tf.placeholder(\"float\", [None, n_input])\n",
    "y =tf.placeholder(tf.int32, [None, n_classes])\n",
    "pred = forward_propagation(x, weights, biases)"
   ]
  },
  {
   "cell_type": "code",
   "execution_count": 67,
   "metadata": {
    "ExecuteTime": {
     "end_time": "2019-06-25T11:31:30.209116Z",
     "start_time": "2019-06-25T11:31:30.005098Z"
    }
   },
   "outputs": [],
   "source": [
    "cost = tf.reduce_mean(tf.nn.softmax_cross_entropy_with_logits(logits=pred, labels = y))"
   ]
  },
  {
   "cell_type": "code",
   "execution_count": null,
   "metadata": {
    "ExecuteTime": {
     "end_time": "2019-06-25T11:28:57.740393Z",
     "start_time": "2019-06-25T11:28:57.640545Z"
    }
   },
   "outputs": [],
   "source": []
  },
  {
   "cell_type": "code",
   "execution_count": 68,
   "metadata": {
    "ExecuteTime": {
     "end_time": "2019-06-25T11:31:30.549192Z",
     "start_time": "2019-06-25T11:31:30.221121Z"
    }
   },
   "outputs": [],
   "source": [
    "optimizer = tf.train.AdamOptimizer(learning_rate=0.01)\n",
    "optimize = optimizer.minimize(cost)"
   ]
  },
  {
   "cell_type": "code",
   "execution_count": 69,
   "metadata": {
    "ExecuteTime": {
     "end_time": "2019-06-25T11:31:30.713188Z",
     "start_time": "2019-06-25T11:31:30.553135Z"
    }
   },
   "outputs": [],
   "source": [
    "sess = tf.Session()\n",
    "sess.run(tf.global_variables_initializer())"
   ]
  },
  {
   "cell_type": "code",
   "execution_count": 70,
   "metadata": {
    "ExecuteTime": {
     "end_time": "2019-06-25T11:32:40.550784Z",
     "start_time": "2019-06-25T11:31:30.721146Z"
    }
   },
   "outputs": [
    {
     "name": "stdout",
     "output_type": "stream",
     "text": [
      "27326.873628735542\n",
      "5009.022016266508\n",
      "2780.1005615978484\n",
      "1994.2329169588318\n",
      "1526.3314770908576\n",
      "1228.1427838040688\n",
      "1207.6470298373458\n",
      "1147.2809105379329\n",
      "1016.8128364835802\n",
      "844.1039943766174\n",
      "627.7384510325398\n",
      "719.4684656295915\n",
      "647.5652678481567\n",
      "560.6782248823337\n",
      "442.49907704316473\n",
      "346.3020057331744\n",
      "488.82491913975264\n",
      "364.4337076879939\n",
      "337.47843283515385\n",
      "313.44609106750585\n",
      "239.0840862448721\n",
      "266.8518341942723\n",
      "265.16458023567503\n",
      "224.50676683732533\n",
      "162.83661592033653\n"
     ]
    }
   ],
   "source": [
    "batch_size = 100\n",
    "for i in range(25):\n",
    "    num_batches = int(mnist.train.num_examples/batch_size)\n",
    "    total_cost = 0\n",
    "    for j in range(num_batches):\n",
    "        batch_x, batch_y = mnist.train.next_batch(batch_size)\n",
    "        c, _ = sess.run([cost,optimize], feed_dict={x:batch_x , y:batch_y})\n",
    "        total_cost += c\n",
    "    print(total_cost)"
   ]
  },
  {
   "cell_type": "code",
   "execution_count": 71,
   "metadata": {
    "ExecuteTime": {
     "end_time": "2019-06-25T11:32:40.566788Z",
     "start_time": "2019-06-25T11:32:40.554787Z"
    }
   },
   "outputs": [
    {
     "data": {
      "text/plain": [
       "55000"
      ]
     },
     "execution_count": 71,
     "metadata": {},
     "output_type": "execute_result"
    }
   ],
   "source": [
    "mnist.train.num_examples"
   ]
  },
  {
   "cell_type": "code",
   "execution_count": 72,
   "metadata": {
    "ExecuteTime": {
     "end_time": "2019-06-25T11:32:41.010819Z",
     "start_time": "2019-06-25T11:32:40.570789Z"
    }
   },
   "outputs": [
    {
     "data": {
      "text/plain": [
       "9606"
      ]
     },
     "execution_count": 72,
     "metadata": {},
     "output_type": "execute_result"
    }
   ],
   "source": [
    "predictions = tf.argmax(pred, 1)\n",
    "correct_labels = tf.argmax(y, 1)\n",
    "correct_predictions = tf.equal(predictions, correct_labels)\n",
    "predictions,correct_predictions  = sess.run([predictions, correct_predictions], feed_dict={x:mnist.test.images,\n",
    "                                              y:mnist.test.labels})\n",
    "correct_predictions.sum()"
   ]
  }
 ],
 "metadata": {
  "hide_input": false,
  "kernelspec": {
   "display_name": "Python 3",
   "language": "python",
   "name": "python3"
  },
  "language_info": {
   "codemirror_mode": {
    "name": "ipython",
    "version": 3
   },
   "file_extension": ".py",
   "mimetype": "text/x-python",
   "name": "python",
   "nbconvert_exporter": "python",
   "pygments_lexer": "ipython3",
   "version": "3.6.8"
  },
  "toc": {
   "base_numbering": 1,
   "nav_menu": {},
   "number_sections": true,
   "sideBar": true,
   "skip_h1_title": false,
   "title_cell": "Table of Contents",
   "title_sidebar": "Contents",
   "toc_cell": false,
   "toc_position": {},
   "toc_section_display": true,
   "toc_window_display": false
  }
 },
 "nbformat": 4,
 "nbformat_minor": 2
}
